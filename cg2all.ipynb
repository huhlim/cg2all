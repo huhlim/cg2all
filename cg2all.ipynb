{
  "nbformat": 4,
  "nbformat_minor": 0,
  "metadata": {
    "colab": {
      "provenance": [],
      "authorship_tag": "ABX9TyP7qUehaRjHuDjDlTqE6r/W",
      "include_colab_link": true
    },
    "kernelspec": {
      "name": "python3",
      "display_name": "Python 3"
    },
    "language_info": {
      "name": "python"
    },
    "gpuClass": "standard",
    "accelerator": "GPU"
  },
  "cells": [
    {
      "cell_type": "markdown",
      "metadata": {
        "id": "view-in-github",
        "colab_type": "text"
      },
      "source": [
        "<a href=\"https://colab.research.google.com/github/huhlim/cg2all/blob/main/cg2all.ipynb\" target=\"_parent\"><img src=\"https://colab.research.google.com/assets/colab-badge.svg\" alt=\"Open In Colab\"/></a>"
      ]
    },
    {
      "cell_type": "markdown",
      "source": [
        "\n",
        "# List of tasks\n",
        "- Task 1: Conversion of an all-atom structure to a CG model using __convert_all2cg__\n",
        "- Task 2: Conversion of a CG model to an all-atom structure using __convert_cg2all__\n",
        "- Task 3: Conversion of a CG simulation trajectory to an atomistic simulation trajectory using __convert_cg2all__\n",
        "- Task 4: Local optimization of a protein model structure against a cryo-EM density map using __cryo_em_minimizer.py__\n",
        "\n",
        "# Supported coarse-grained models\n",
        "- CalphaBasedModel: C$\\alpha$-trace (atom names should be \"CA\")\n",
        "- ResidueBasedModel: Residue center-of-mass (atom names should be \"CA\")\n",
        "- CalphaCMModel: C$\\alpha$-trace + Residue center-of-mass (atom names should be \"CA\" and \"CM\")\n",
        "- BackboneModel: Model only with backbone atoms (N, CA, C)\n",
        "- MainchainModel: Model only with mainchain atoms (N, CA, C, O)\n",
        "- Martini: [Martini](http://cgmartini.nl/) model\n",
        "- PRIMO: [PRIMO](http://dx.doi.org/10.1002/prot.22645) model\n",
        "---"
      ],
      "metadata": {
        "id": "FBOi_bUBW5dR"
      }
    },
    {
      "cell_type": "code",
      "execution_count": null,
      "metadata": {
        "id": "pmJA_J_IlU7s",
        "cellView": "form"
      },
      "outputs": [],
      "source": [
        "#@title Install cg2all package (takes ~3 minutes)\n",
        "%%bash\n",
        "\n",
        "gpu_available=$(nvidia-smi | grep \"CUDA Version\" | wc -l)\n",
        "if [[ $gpu_available == 1 ]]; then\n",
        "    echo \"This notebook is running on a GPU runtime.\"\n",
        "    pip install dgl -f https://data.dgl.ai/wheels/cu116/repo.html &> /dev/null\n",
        "else\n",
        "    echo \"This notebook is running on a CPU runtime.\"\n",
        "fi\n",
        "\n",
        "pip install -q git+http://github.com/huhlim/cg2all &> /dev/null\n",
        "pip install -q py3Dmol gdown mrcfile &> /dev/null"
      ]
    },
    {
      "cell_type": "code",
      "source": [
        "#@title Download model checkpoint files (optional, takes <1 minute)\n",
        "#@markdown This step downloads all PyTorch model checkpoint files. If you did not run this step and a necessary checkpoint file is missing, then the script will download it automatically.\n",
        "\n",
        "import cg2all.lib.libmodel\n",
        "from cg2all.lib.libconfig import MODEL_HOME\n",
        "\n",
        "for model_type in [\"CalphaBasedModel\", \"ResidueBasedModel\", \"CalphaCMModel\", \"BackboneModel\", \"MainchainModel\", \"Martini\", \"PRIMO\"]:\n",
        "    ckpt_fn = MODEL_HOME / f\"{model_type}.ckpt\"\n",
        "    if not ckpt_fn.exists():\n",
        "        cg2all.lib.libmodel.download_ckpt_file(model_type, ckpt_fn)\n"
      ],
      "metadata": {
        "cellView": "form",
        "id": "BaywXyY50z7O"
      },
      "execution_count": null,
      "outputs": []
    },
    {
      "cell_type": "code",
      "source": [
        "#@title Set up py3Dmol for structure display\n",
        "\n",
        "import py3Dmol\n",
        "\n",
        "def display(pdb_fn, representation=\"cartoon\", is_traj=False):\n",
        "    view = py3Dmol.view(js='https://3dmol.org/build/3Dmol.js')\n",
        "    if is_traj:\n",
        "        view.addModelsAsFrames(open(pdb_fn,'r').read(),'pdb')\n",
        "    else:\n",
        "        view.addModel(open(pdb_fn,'r').read(),'pdb')\n",
        "    \n",
        "    if representation == \"cartoon\":\n",
        "        view.setStyle({'cartoon': {'color':'spectrum'}})\n",
        "        #\n",
        "        view.addStyle({'and':[{'resn':[\"GLY\",\"PRO\"],'invert':True},{'atom': [\"N\", \"C\", \"O\"],'invert':True}]},\n",
        "                        {'stick':{'colorscheme':\"WhiteCarbon\",'radius':0.3}})\n",
        "        view.addStyle({'and':[{'resn':\"GLY\"},{'atom':'CA'}]},\n",
        "                        {'sphere':{'colorscheme':\"WhiteCarbon\",'radius':0.3}})\n",
        "        view.addStyle({'and':[{'resn':\"PRO\"},{'atom':['C','O'],'invert':True}]},\n",
        "                        {'stick':{'colorscheme':\"WhiteCarbon\",'radius':0.3}}) \n",
        "    \n",
        "    elif representation == \"ball+stick\":\n",
        "        view.setStyle({\"sphere\": {\"color\": \"spectrum\", \"radius\": 1.0}})    \n",
        "\n",
        "    else:\n",
        "        raise NotImplementedError(representation)\n",
        "    \n",
        "    view.zoomTo()\n",
        "    if is_traj:\n",
        "        view.animate({'loop': 'forward', \"interval\": 500})\n",
        "\n",
        "    return view"
      ],
      "metadata": {
        "cellView": "form",
        "id": "2izhOiEl_LZz"
      },
      "execution_count": null,
      "outputs": []
    },
    {
      "cell_type": "markdown",
      "source": [
        "---"
      ],
      "metadata": {
        "id": "8B3PrhVv2XjL"
      }
    },
    {
      "cell_type": "code",
      "source": [
        "#@title Task 1: Conversion of an all-atom structure to a CG model using __convert_all2cg__\n",
        "\n",
        "# upload a PDB file\n",
        "import requests\n",
        "from google.colab import files\n",
        "\n",
        "coarse_grained_model_type = \"CalphaBasedModel\" #@param [\"CalphaBasedModel\", \"ResidueBasedModel\", \"CalphaCMModel\", \"BackboneModel\", \"MainchainModel\", \"Martini\", \"PRIMO\"]\n",
        "\n",
        "use_example = True #@param {type:\"boolean\"}\n",
        "#@markdown - An example input PDB file will be downloaded from [our repository](https://github.com/huhlim/cg2all/tree/main/tests).\n",
        "\n",
        "if use_example:\n",
        "    url = \"https://raw.githubusercontent.com/huhlim/cg2all/main/tests/1ab1_A.pdb\"\n",
        "    input_pdb = url.split(\"/\")[-1]\n",
        "    with open(input_pdb, \"wt\") as fout:\n",
        "        fout.write(requests.get(url).text)\n",
        "else:\n",
        "    input_pdb = files.upload()\n",
        "    input_pdb = list(input_pdb)[0]\n",
        "\n",
        "# convert\n",
        "import pathlib\n",
        "output_pdb = pathlib.Path(input_pdb).stem + f\".{coarse_grained_model_type}.pdb\"\n",
        "\n",
        "!convert_all2cg -p $input_pdb -o $output_pdb --cg $coarse_grained_model_type\n",
        "print(f\"Converted {input_pdb} to {output_pdb} in {coarse_grained_model_type}\")\n",
        "\n",
        "display(output_pdb, representation=\"ball+stick\").show()"
      ],
      "metadata": {
        "cellView": "form",
        "id": "ZdOjX1AMX7G5"
      },
      "execution_count": null,
      "outputs": []
    },
    {
      "cell_type": "code",
      "source": [
        "#@title Download the converted file\n",
        "files.download(output_pdb)"
      ],
      "metadata": {
        "cellView": "form",
        "id": "bT6wD7fOc8hz"
      },
      "execution_count": null,
      "outputs": []
    },
    {
      "cell_type": "markdown",
      "source": [
        "---"
      ],
      "metadata": {
        "id": "JC-tfBj7c-Oh"
      }
    },
    {
      "cell_type": "code",
      "source": [
        "#@title Task 2: Conversion of a CG model to an all-atom structure using __convert_cg2all__\n",
        "\n",
        "# upload a PDB file\n",
        "import requests\n",
        "from google.colab import files\n",
        "\n",
        "coarse_grained_model_type = \"CalphaBasedModel\" #@param [\"CalphaBasedModel\", \"ResidueBasedModel\", \"CalphaCMModel\", \"BackboneModel\", \"MainchainModel\", \"Martini\", \"PRIMO\"]\n",
        "\n",
        "use_example = True #@param {type:\"boolean\"}\n",
        "#@markdown - An example input PDB file will be downloaded from [our repository](https://github.com/huhlim/cg2all/tree/main/tests).\n",
        "\n",
        "if use_example:\n",
        "    url = {\"CalphaBasedModel\": \"https://raw.githubusercontent.com/huhlim/cg2all/main/tests/1ab1_A.calpha.pdb\", \\\n",
        "           \"ResidueBasedModel\": \"https://raw.githubusercontent.com/huhlim/cg2all/main/tests/1ab1_A.residue.pdb\", \\\n",
        "           \"CalphaCMModel\": \"https://raw.githubusercontent.com/huhlim/cg2all/main/tests/1ab1_A.cacm.pdb\", \\\n",
        "           \"BackboneModel\": \"https://raw.githubusercontent.com/huhlim/cg2all/main/tests/1ab1_A.bb.pdb\", \\\n",
        "           \"MainchainModel\": \"https://raw.githubusercontent.com/huhlim/cg2all/main/tests/1ab1_A.mc.pdb\", \\\n",
        "           \"Martini\": \"https://raw.githubusercontent.com/huhlim/cg2all/main/tests/1ab1_A.martini.pdb\", \\\n",
        "           \"PRIMO\": \"https://raw.githubusercontent.com/huhlim/cg2all/main/tests/1ab1_A.primo.pdb\"}\n",
        "    url = url[coarse_grained_model_type]\n",
        "    input_pdb = url.split(\"/\")[-1]\n",
        "    with open(input_pdb, \"wt\") as fout:\n",
        "        fout.write(requests.get(url).text)\n",
        "else:\n",
        "    input_pdb = files.upload()\n",
        "    input_pdb = list(input_pdb)[0]\n",
        "\n",
        "# convert\n",
        "import pathlib\n",
        "output_pdb = pathlib.Path(input_pdb).stem + \".all.pdb\"\n",
        "\n",
        "!convert_cg2all -p $input_pdb -o $output_pdb --cg $coarse_grained_model_type\n",
        "print(f\"Converted {input_pdb} in {coarse_grained_model_type} to {output_pdb}\")\n",
        "\n",
        "display(output_pdb, representation=\"cartoon\").show()"
      ],
      "metadata": {
        "cellView": "form",
        "id": "NKt4ZMqn6W85"
      },
      "execution_count": null,
      "outputs": []
    },
    {
      "cell_type": "code",
      "source": [
        "#@title Download the converted file\n",
        "files.download(output_pdb)"
      ],
      "metadata": {
        "cellView": "form",
        "id": "qKtrbblH-29X"
      },
      "execution_count": null,
      "outputs": []
    },
    {
      "cell_type": "markdown",
      "source": [
        "---"
      ],
      "metadata": {
        "id": "G0m80ahGdAev"
      }
    },
    {
      "cell_type": "code",
      "source": [
        "#@title Task 3: Conversion of a CG simulation trajectory to an atomistic simulation trajectory using __convert_cg2all__\n",
        "#@markdown Input trajectory file should be in the DCD format.\n",
        "\n",
        "# upload a PDB file\n",
        "import requests\n",
        "from google.colab import files\n",
        "\n",
        "coarse_grained_model_type = \"CalphaBasedModel\" #@param [\"CalphaBasedModel\", \"ResidueBasedModel\", \"CalphaCMModel\", \"BackboneModel\", \"MainchainModel\", \"Martini\", \"PRIMO\"]\n",
        "\n",
        "use_example = True #@param {type:\"boolean\"}\n",
        "#@markdown - An example input PDB and DCD files will be downloaded from [our repository](https://github.com/huhlim/cg2all/tree/main/tests).\n",
        "\n",
        "if use_example:\n",
        "    if coarse_grained_model_type != \"CalphaBasedModel\":\n",
        "        print(\"The example is based on CalphaBasedModel.\")\n",
        "        coarse_grained_model_type = \"CalphaBasedModel\"\n",
        "    #\n",
        "    url = \"https://raw.githubusercontent.com/huhlim/cg2all/main/tests/1jni.calpha.pdb\"\n",
        "    input_pdb = url.split(\"/\")[-1]\n",
        "    with open(input_pdb, \"wt\") as fout:\n",
        "        fout.write(requests.get(url).text)\n",
        "    #\n",
        "    url = \"https://raw.githubusercontent.com/huhlim/cg2all/main/tests/1jni.calpha.dcd\"\n",
        "    input_dcd = url.split(\"/\")[-1]\n",
        "    with open(input_dcd, \"wb\") as fout:\n",
        "        fout.write(requests.get(url).content)\n",
        "\n",
        "else:\n",
        "    input_pdb = files.upload()\n",
        "    input_pdb = list(input_pdb)[0]\n",
        "    input_dcd = files.upload()\n",
        "    input_dcd = list(input_dcd)[0]\n",
        "\n",
        "batch_size = 1 #@param {type: \"number\"}\n",
        "#@markdown - Batch size should be a divisor of the total number of frames. The example trajectory file has five frames.\n",
        "\n",
        "# convert\n",
        "import pathlib\n",
        "output_dcd = pathlib.Path(input_dcd).stem + \".all.dcd\"\n",
        "output_pdb = pathlib.Path(input_pdb).stem + \".all.pdb\"\n",
        "\n",
        "!convert_cg2all -p $input_pdb --dcd $input_dcd -o $output_dcd -opdb $output_pdb --cg $coarse_grained_model_type --batch $batch_size\n",
        "print(f\"Converted {input_dcd} in {coarse_grained_model_type} to {output_dcd}\")\n",
        "\n",
        "import mdtraj\n",
        "traj = mdtraj.load(output_dcd, top=output_pdb)\n",
        "if len(traj) > 20:\n",
        "    print(\"Displaying first 20 frames\")\n",
        "    traj = traj[:20]\n",
        "traj = traj.superpose(traj)\n",
        "traj.save(\"display.pdb\")\n",
        "\n",
        "display(\"display.pdb\", representation=\"cartoon\", is_traj=True).show()\n",
        "#print(\"Displaying the last frame\")\n",
        "#display(output_pdb, representation=\"cartoon\").show()"
      ],
      "metadata": {
        "cellView": "form",
        "id": "u4e5NhxndAQ8"
      },
      "execution_count": null,
      "outputs": []
    },
    {
      "cell_type": "code",
      "source": [
        "#@title Download the converted file\n",
        "files.download(output_pdb)\n",
        "files.download(output_dcd)"
      ],
      "metadata": {
        "cellView": "form",
        "id": "Fc3MtzNU5kCa"
      },
      "execution_count": null,
      "outputs": []
    },
    {
      "cell_type": "markdown",
      "source": [
        "---"
      ],
      "metadata": {
        "id": "W8-HKwOO50oP"
      }
    },
    {
      "cell_type": "code",
      "source": [
        "#@title Task 4: Local optimization of a protein model structure against a cryo-EM density map using __cryo_em_minimizer.py__\n",
        "#@markdown This task is running very slow on the Google Colab __CPU__ runtime. Thus, it is highly recommended to use a __GPU__ runtime with enough VRAM. \n",
        "\n",
        "#@markdown Input structure should be roughly fitted to the input electron density map.\n",
        "\n",
        "# upload a PDB file\n",
        "import requests\n",
        "from google.colab import files\n",
        "\n",
        "coarse_grained_model_type = \"CalphaBasedModel\" \n",
        "use_example = True #@param {type:\"boolean\"}\n",
        "#@markdown - An example input PDB and electron density map files will be downloaded from [our repository](https://github.com/huhlim/cg2all/tree/main/tests).\n",
        "\n",
        "if use_example:\n",
        "    url = \"https://raw.githubusercontent.com/huhlim/cg2all/main/tests/3isr.af2.pdb\"\n",
        "    input_pdb = url.split(\"/\")[-1]\n",
        "    with open(input_pdb, \"wt\") as fout:\n",
        "        fout.write(requests.get(url).text)\n",
        "    #\n",
        "    url = \"https://raw.githubusercontent.com/huhlim/cg2all/main/tests/3isr_5.mrc\"\n",
        "    input_map = url.split(\"/\")[-1]\n",
        "    with open(input_map, \"wb\") as fout:\n",
        "        fout.write(requests.get(url).content)\n",
        "\n",
        "else:\n",
        "    input_pdb = files.upload()\n",
        "    input_pdb = list(input_pdb)[0]\n",
        "    input_map = files.upload()\n",
        "    input_map = list(input_map)[0]\n",
        "\n",
        "number_of_snapshots = 10 #@param {type: \"slider\", min:1, max:20}\n",
        "#@markdown - The number of minimization steps is 10 x number_of_snapshots. It was intentionally limited to 200 steps in this notebook.\n",
        "n_step = number_of_snapshots * 10\n",
        "\n",
        "import pathlib\n",
        "output_prefix = pathlib.Path(input_map).stem + \"+\" + pathlib.Path(input_pdb).stem\n",
        "\n",
        "from cg2all.lib.libconfig import BASE\n",
        "EXEC = BASE / \"script/cryo_em_minimizer.py\"\n",
        "!python $EXEC --pdb $input_pdb --map $input_map --output $output_prefix -n $n_step --output_freq 10\n",
        "\n",
        "pdb_fn_s = list(pathlib.Path(output_prefix).glob(\"min.*.pdb\"))\n",
        "pdb_fn_s.sort(key=lambda fn: int(fn.name.split(\".\")[-2]))\n",
        "traj = mdtraj.load(pdb_fn_s)\n",
        "traj.save(\"display.pdb\")\n",
        "display(\"display.pdb\", representation=\"cartoon\", is_traj=True).show()"
      ],
      "metadata": {
        "cellView": "form",
        "id": "CoX74ebi5u3b"
      },
      "execution_count": null,
      "outputs": []
    },
    {
      "cell_type": "code",
      "source": [
        "#@title Download the optimized files\n",
        "\n",
        "import os\n",
        "zip = f\"{output_prefix}.zip\"\n",
        "os.system(f\"zip -r {zip} {output_prefix}\")\n",
        "files.download(zip)"
      ],
      "metadata": {
        "cellView": "form",
        "id": "O_Bfse-lTcEA"
      },
      "execution_count": null,
      "outputs": []
    }
  ]
}