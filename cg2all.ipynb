{
  "nbformat": 4,
  "nbformat_minor": 0,
  "metadata": {
    "colab": {
      "provenance": [],
      "authorship_tag": "ABX9TyN4pkiH7AqF/I8+w9bly5Ao",
      "include_colab_link": true
    },
    "kernelspec": {
      "name": "python3",
      "display_name": "Python 3"
    },
    "language_info": {
      "name": "python"
    },
    "gpuClass": "standard"
  },
  "cells": [
    {
      "cell_type": "markdown",
      "metadata": {
        "id": "view-in-github",
        "colab_type": "text"
      },
      "source": [
        "<a href=\"https://colab.research.google.com/github/huhlim/cg2all/blob/main/cg2all.ipynb\" target=\"_parent\"><img src=\"https://colab.research.google.com/assets/colab-badge.svg\" alt=\"Open In Colab\"/></a>"
      ]
    },
    {
      "cell_type": "code",
      "execution_count": null,
      "metadata": {
        "id": "pmJA_J_IlU7s",
        "cellView": "form"
      },
      "outputs": [],
      "source": [
        "#@title Install cg2all package\n",
        "!pip install -q git+http://github.com/huhlim/cg2all &> /dev/null\n",
        "!pip install -q py3Dmol &> /dev/null\n",
        "\n",
        "import torch\n",
        "if torch.cuda.is_available():\n",
        "    raise RuntimeError(\"Change the Runtime type to None.\")"
      ]
    },
    {
      "cell_type": "code",
      "source": [
        "#@title CG --> All-atom\n",
        "\n",
        "# upload a PDB file\n",
        "from google.colab import files\n",
        "\n",
        "input_pdb = files.upload()\n",
        "input_pdb = list(input_pdb)[0]\n",
        "\n",
        "coarse_grained_model_type = \"CalphaBasedModel\" #@param [\"CalphaBasedModel\", \"ResidueBasedModel\", \"Martini\"]\n",
        "\n",
        "# convert\n",
        "import cg2all\n",
        "import pathlib\n",
        "\n",
        "output_pdb = pathlib.Path(input_pdb).stem + \".all.pdb\"\n",
        "_ = cg2all.convert_cg2all(input_pdb, output_pdb, model_type=coarse_grained_model_type)\n",
        "print(f\"Converted {input_pdb} in {coarse_grained_model_type} to {output_pdb}\")\n",
        "\n",
        "# display output\n",
        "import py3Dmol\n",
        "\n",
        "with open(output_pdb, \"r\") as fp:\n",
        "    output = fp.read()\n",
        "    output = output.replace(\"OT1\", \"O  \")\n",
        "    output = output.replace(\"OT2\", \"OXT\")\n",
        "\n",
        "view = py3Dmol.view(js='https://3dmol.org/build/3Dmol.js')\n",
        "view.addModel(output, 'pdb')\n",
        "view.setStyle({'cartoon': {'color':'spectrum'}})\n",
        "  \n",
        "BB = ['C','O','N']\n",
        "view.addStyle({'and':[{'resn':[\"GLY\",\"PRO\"],'invert':True},{'atom':BB,'invert':True}]},\n",
        "                    {'stick':{'colorscheme':f\"WhiteCarbon\",'radius':0.2}})\n",
        "view.addStyle({'and':[{'resn':\"GLY\"},{'atom':'CA'}]},\n",
        "                    {'sphere':{'colorscheme':f\"WhiteCarbon\",'radius':0.2}})\n",
        "view.addStyle({'and':[{'resn':\"PRO\"},{'atom':['C','O'],'invert':True}]},\n",
        "                    {'stick':{'colorscheme':f\"WhiteCarbon\",'radius':0.2}})  \n",
        "\n",
        "view.zoomTo()\n",
        "view.show()"
      ],
      "metadata": {
        "cellView": "form",
        "id": "NKt4ZMqn6W85"
      },
      "execution_count": null,
      "outputs": []
    },
    {
      "cell_type": "code",
      "source": [
        "#@title Download the converted file\n",
        "files.download(output_pdb)"
      ],
      "metadata": {
        "cellView": "form",
        "id": "qKtrbblH-29X"
      },
      "execution_count": null,
      "outputs": []
    }
  ]
}