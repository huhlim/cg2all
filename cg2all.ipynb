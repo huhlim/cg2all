{
  "nbformat": 4,
  "nbformat_minor": 0,
  "metadata": {
    "colab": {
      "provenance": [],
      "authorship_tag": "ABX9TyMNfmDmZByO1uL302g1LkFc",
      "include_colab_link": true
    },
    "kernelspec": {
      "name": "python3",
      "display_name": "Python 3"
    },
    "language_info": {
      "name": "python"
    }
  },
  "cells": [
    {
      "cell_type": "markdown",
      "metadata": {
        "id": "view-in-github",
        "colab_type": "text"
      },
      "source": [
        "<a href=\"https://colab.research.google.com/github/huhlim/cg2all/blob/main/cg2all.ipynb\" target=\"_parent\"><img src=\"https://colab.research.google.com/assets/colab-badge.svg\" alt=\"Open In Colab\"/></a>"
      ]
    },
    {
      "cell_type": "code",
      "execution_count": null,
      "metadata": {
        "id": "pmJA_J_IlU7s",
        "cellView": "form"
      },
      "outputs": [],
      "source": [
        "#@title Install cg2all package\n",
        "!pip install -q git+http://github.com/huhlim/cg2all &> /dev/null\n",
        "!pip install -q py3Dmol &> /dev/null"
      ]
    },
    {
      "cell_type": "code",
      "source": [
        "#@title Upload a coarse-grained protein model in the PDB format\n",
        "from google.colab import files\n",
        "\n",
        "input_pdb = files.upload()\n",
        "input_pdb = list(input_pdb)[0]\n",
        "\n",
        "coarse_grained_model_type = \"CalphaBasedModel\" #@param [\"CalphaBasedModel\", \"ResidueBasedModel\", \"Martini\"]"
      ],
      "metadata": {
        "cellView": "form",
        "id": "NKt4ZMqn6W85"
      },
      "execution_count": null,
      "outputs": []
    },
    {
      "cell_type": "code",
      "source": [
        "#@title Convert CG --> All-atom\n",
        "\n",
        "import cg2all\n",
        "import pathlib\n",
        "\n",
        "output_pdb = pathlib.Path(input_pdb).stem + \".all.pdb\"\n",
        "_ = cg2all.convert_cg2all(input_pdb, output_pdb, model_type=coarse_grained_model_type)"
      ],
      "metadata": {
        "cellView": "form",
        "id": "KEwpc66s7hdx"
      },
      "execution_count": null,
      "outputs": []
    },
    {
      "cell_type": "code",
      "source": [
        "#@title Display output structure\n",
        "import py3Dmol\n",
        "\n",
        "view = py3Dmol.view(js='https://3dmol.org/build/3Dmol.js',)\n",
        "view.addModel(open(output_pdb, 'r').read(),'pdb')\n",
        "view.setStyle({'cartoon': {'color':'spectrum'}})\n",
        "  \n",
        "BB = ['C','O','N']\n",
        "view.addStyle({'and':[{'resn':[\"GLY\",\"PRO\"],'invert':True},{'atom':BB,'invert':True}]},\n",
        "                    {'stick':{'colorscheme':f\"WhiteCarbon\",'radius':0.2}})\n",
        "view.addStyle({'and':[{'resn':\"GLY\"},{'atom':'CA'}]},\n",
        "                    {'sphere':{'colorscheme':f\"WhiteCarbon\",'radius':0.2}})\n",
        "view.addStyle({'and':[{'resn':\"PRO\"},{'atom':['C','O'],'invert':True}]},\n",
        "                    {'stick':{'colorscheme':f\"WhiteCarbon\",'radius':0.2}})  \n",
        "\n",
        "view.zoomTo()\n",
        "view.show()"
      ],
      "metadata": {
        "cellView": "form",
        "id": "-yJlsZ-5_1Jt"
      },
      "execution_count": null,
      "outputs": []
    },
    {
      "cell_type": "code",
      "source": [
        "#@title Download the converted file\n",
        "files.download(output_pdb)"
      ],
      "metadata": {
        "cellView": "form",
        "id": "qKtrbblH-29X"
      },
      "execution_count": null,
      "outputs": []
    }
  ]
}